{
 "cells": [
  {
   "cell_type": "markdown",
   "id": "bfec0f6e-dff7-4251-9ba0-70baffa50e62",
   "metadata": {},
   "source": [
    "This SMILES string was created in RDKit-Playground/CreateImagesFromSDFfile.py and copied here. It was the first molecule read from the file, 'data/ChEBI_selected.sdf'. It is CHEBI:2453, acyclovir,\n",
    "https://www.ebi.ac.uk/chebi/searchId.do?chebiId=CHEBI:2453"
   ]
  },
  {
   "cell_type": "code",
   "execution_count": 2,
   "id": "12778fef-d35b-429e-99d1-8842eb71e15a",
   "metadata": {},
   "outputs": [],
   "source": [
    "smiles = 'NC1=NC2=C(N=CN2COCCO)C(=O)N1'"
   ]
  },
  {
   "cell_type": "code",
   "execution_count": 3,
   "id": "783028f7-ed67-41b3-8cda-fd4c48aadb22",
   "metadata": {},
   "outputs": [
    {
     "data": {
      "text/plain": [
       "'NC1=NC2=C(N=CN2COCCO)C(=O)N1'"
      ]
     },
     "execution_count": 3,
     "metadata": {},
     "output_type": "execute_result"
    }
   ],
   "source": [
    "smiles"
   ]
  },
  {
   "cell_type": "code",
   "execution_count": 4,
   "id": "c344fc7b-b1ce-4a04-b0b1-b2a3991437ea",
   "metadata": {},
   "outputs": [
    {
     "name": "stdout",
     "output_type": "stream",
     "text": [
      "2023.03.3\n"
     ]
    }
   ],
   "source": [
    "from rdkit import Chem\n",
    "from rdkit.Chem import Draw\n",
    "from rdkit.Chem.Draw import rdMolDraw2D\n",
    "from rdkit.Chem import rdDepictor\n",
    "rdDepictor.SetPreferCoordGen(True)\n",
    "from rdkit.Chem.Draw import IPythonConsole\n",
    "from IPython.display import SVG\n",
    "import rdkit\n",
    "print(rdkit.__version__)"
   ]
  },
  {
   "cell_type": "code",
   "execution_count": 5,
   "id": "38926304-13ea-4a7b-9f69-58dfa4f8433e",
   "metadata": {},
   "outputs": [],
   "source": [
    "mol1 = Chem.MolFromSmiles(smiles)"
   ]
  },
  {
   "cell_type": "code",
   "execution_count": 6,
   "id": "bfbadd04-ac2d-49aa-87b3-a5bfe9b917dc",
   "metadata": {},
   "outputs": [
    {
     "data": {
      "image/svg+xml": [
       "<svg xmlns=\"http://www.w3.org/2000/svg\" xmlns:rdkit=\"http://www.rdkit.org/xml\" xmlns:xlink=\"http://www.w3.org/1999/xlink\" version=\"1.1\" baseProfile=\"full\" xml:space=\"preserve\" width=\"350px\" height=\"300px\" viewBox=\"0 0 350 300\">\n",
       "<!-- END OF HEADER -->\n",
       "<rect style=\"opacity:1.0;fill:#FFFFFF;stroke:none\" width=\"350.0\" height=\"300.0\" x=\"0.0\" y=\"0.0\"> </rect>\n",
       "<path class=\"bond-0 atom-0 atom-1\" d=\"M 293.7,160.1 L 281.8,151.4\" style=\"fill:none;fill-rule:evenodd;stroke:#0000FF;stroke-width:2.0px;stroke-linecap:butt;stroke-linejoin:miter;stroke-opacity:1\"/>\n",
       "<path class=\"bond-0 atom-0 atom-1\" d=\"M 281.8,151.4 L 269.9,142.7\" style=\"fill:none;fill-rule:evenodd;stroke:#000000;stroke-width:2.0px;stroke-linecap:butt;stroke-linejoin:miter;stroke-opacity:1\"/>\n",
       "<path class=\"bond-1 atom-1 atom-2\" d=\"M 269.9,142.7 L 255.9,148.8\" style=\"fill:none;fill-rule:evenodd;stroke:#000000;stroke-width:2.0px;stroke-linecap:butt;stroke-linejoin:miter;stroke-opacity:1\"/>\n",
       "<path class=\"bond-1 atom-1 atom-2\" d=\"M 255.9,148.8 L 241.9,155.0\" style=\"fill:none;fill-rule:evenodd;stroke:#0000FF;stroke-width:2.0px;stroke-linecap:butt;stroke-linejoin:miter;stroke-opacity:1\"/>\n",
       "<path class=\"bond-1 atom-1 atom-2\" d=\"M 264.5,138.7 L 252.0,144.2\" style=\"fill:none;fill-rule:evenodd;stroke:#000000;stroke-width:2.0px;stroke-linecap:butt;stroke-linejoin:miter;stroke-opacity:1\"/>\n",
       "<path class=\"bond-1 atom-1 atom-2\" d=\"M 252.0,144.2 L 239.5,149.7\" style=\"fill:none;fill-rule:evenodd;stroke:#0000FF;stroke-width:2.0px;stroke-linecap:butt;stroke-linejoin:miter;stroke-opacity:1\"/>\n",
       "<path class=\"bond-2 atom-2 atom-3\" d=\"M 226.8,152.8 L 214.9,144.1\" style=\"fill:none;fill-rule:evenodd;stroke:#0000FF;stroke-width:2.0px;stroke-linecap:butt;stroke-linejoin:miter;stroke-opacity:1\"/>\n",
       "<path class=\"bond-2 atom-2 atom-3\" d=\"M 214.9,144.1 L 203.0,135.3\" style=\"fill:none;fill-rule:evenodd;stroke:#000000;stroke-width:2.0px;stroke-linecap:butt;stroke-linejoin:miter;stroke-opacity:1\"/>\n",
       "<path class=\"bond-3 atom-3 atom-4\" d=\"M 203.0,135.3 L 207.2,96.7\" style=\"fill:none;fill-rule:evenodd;stroke:#000000;stroke-width:2.0px;stroke-linecap:butt;stroke-linejoin:miter;stroke-opacity:1\"/>\n",
       "<path class=\"bond-3 atom-3 atom-4\" d=\"M 209.2,132.6 L 212.7,100.7\" style=\"fill:none;fill-rule:evenodd;stroke:#000000;stroke-width:2.0px;stroke-linecap:butt;stroke-linejoin:miter;stroke-opacity:1\"/>\n",
       "<path class=\"bond-4 atom-4 atom-5\" d=\"M 207.2,96.7 L 193.3,90.4\" style=\"fill:none;fill-rule:evenodd;stroke:#000000;stroke-width:2.0px;stroke-linecap:butt;stroke-linejoin:miter;stroke-opacity:1\"/>\n",
       "<path class=\"bond-4 atom-4 atom-5\" d=\"M 193.3,90.4 L 179.4,84.2\" style=\"fill:none;fill-rule:evenodd;stroke:#0000FF;stroke-width:2.0px;stroke-linecap:butt;stroke-linejoin:miter;stroke-opacity:1\"/>\n",
       "<path class=\"bond-5 atom-5 atom-6\" d=\"M 164.3,89.1 L 155.0,99.3\" style=\"fill:none;fill-rule:evenodd;stroke:#0000FF;stroke-width:2.0px;stroke-linecap:butt;stroke-linejoin:miter;stroke-opacity:1\"/>\n",
       "<path class=\"bond-5 atom-5 atom-6\" d=\"M 155.0,99.3 L 145.7,109.5\" style=\"fill:none;fill-rule:evenodd;stroke:#000000;stroke-width:2.0px;stroke-linecap:butt;stroke-linejoin:miter;stroke-opacity:1\"/>\n",
       "<path class=\"bond-5 atom-5 atom-6\" d=\"M 168.6,93.0 L 160.7,101.6\" style=\"fill:none;fill-rule:evenodd;stroke:#0000FF;stroke-width:2.0px;stroke-linecap:butt;stroke-linejoin:miter;stroke-opacity:1\"/>\n",
       "<path class=\"bond-5 atom-5 atom-6\" d=\"M 160.7,101.6 L 152.9,110.3\" style=\"fill:none;fill-rule:evenodd;stroke:#000000;stroke-width:2.0px;stroke-linecap:butt;stroke-linejoin:miter;stroke-opacity:1\"/>\n",
       "<path class=\"bond-6 atom-6 atom-7\" d=\"M 145.7,109.5 L 152.6,121.6\" style=\"fill:none;fill-rule:evenodd;stroke:#000000;stroke-width:2.0px;stroke-linecap:butt;stroke-linejoin:miter;stroke-opacity:1\"/>\n",
       "<path class=\"bond-6 atom-6 atom-7\" d=\"M 152.6,121.6 L 159.5,133.7\" style=\"fill:none;fill-rule:evenodd;stroke:#0000FF;stroke-width:2.0px;stroke-linecap:butt;stroke-linejoin:miter;stroke-opacity:1\"/>\n",
       "<path class=\"bond-7 atom-7 atom-8\" d=\"M 160.7,152.8 L 154.8,165.7\" style=\"fill:none;fill-rule:evenodd;stroke:#0000FF;stroke-width:2.0px;stroke-linecap:butt;stroke-linejoin:miter;stroke-opacity:1\"/>\n",
       "<path class=\"bond-7 atom-7 atom-8\" d=\"M 154.8,165.7 L 149.0,178.7\" style=\"fill:none;fill-rule:evenodd;stroke:#000000;stroke-width:2.0px;stroke-linecap:butt;stroke-linejoin:miter;stroke-opacity:1\"/>\n",
       "<path class=\"bond-8 atom-8 atom-9\" d=\"M 149.0,178.7 L 134.1,180.2\" style=\"fill:none;fill-rule:evenodd;stroke:#000000;stroke-width:2.0px;stroke-linecap:butt;stroke-linejoin:miter;stroke-opacity:1\"/>\n",
       "<path class=\"bond-8 atom-8 atom-9\" d=\"M 134.1,180.2 L 119.2,181.7\" style=\"fill:none;fill-rule:evenodd;stroke:#FF0000;stroke-width:2.0px;stroke-linecap:butt;stroke-linejoin:miter;stroke-opacity:1\"/>\n",
       "<path class=\"bond-9 atom-9 atom-10\" d=\"M 105.9,192.4 L 100.2,205.2\" style=\"fill:none;fill-rule:evenodd;stroke:#FF0000;stroke-width:2.0px;stroke-linecap:butt;stroke-linejoin:miter;stroke-opacity:1\"/>\n",
       "<path class=\"bond-9 atom-9 atom-10\" d=\"M 100.2,205.2 L 94.4,218.0\" style=\"fill:none;fill-rule:evenodd;stroke:#000000;stroke-width:2.0px;stroke-linecap:butt;stroke-linejoin:miter;stroke-opacity:1\"/>\n",
       "<path class=\"bond-10 atom-10 atom-11\" d=\"M 94.4,218.0 L 55.7,221.9\" style=\"fill:none;fill-rule:evenodd;stroke:#000000;stroke-width:2.0px;stroke-linecap:butt;stroke-linejoin:miter;stroke-opacity:1\"/>\n",
       "<path class=\"bond-11 atom-11 atom-12\" d=\"M 55.7,221.9 L 49.9,234.8\" style=\"fill:none;fill-rule:evenodd;stroke:#000000;stroke-width:2.0px;stroke-linecap:butt;stroke-linejoin:miter;stroke-opacity:1\"/>\n",
       "<path class=\"bond-11 atom-11 atom-12\" d=\"M 49.9,234.8 L 44.1,247.7\" style=\"fill:none;fill-rule:evenodd;stroke:#FF0000;stroke-width:2.0px;stroke-linecap:butt;stroke-linejoin:miter;stroke-opacity:1\"/>\n",
       "<path class=\"bond-12 atom-4 atom-13\" d=\"M 207.2,96.7 L 242.8,81.1\" style=\"fill:none;fill-rule:evenodd;stroke:#000000;stroke-width:2.0px;stroke-linecap:butt;stroke-linejoin:miter;stroke-opacity:1\"/>\n",
       "<path class=\"bond-13 atom-13 atom-14\" d=\"M 245.5,83.1 L 247.2,67.9\" style=\"fill:none;fill-rule:evenodd;stroke:#000000;stroke-width:2.0px;stroke-linecap:butt;stroke-linejoin:miter;stroke-opacity:1\"/>\n",
       "<path class=\"bond-13 atom-13 atom-14\" d=\"M 247.2,67.9 L 248.9,52.7\" style=\"fill:none;fill-rule:evenodd;stroke:#FF0000;stroke-width:2.0px;stroke-linecap:butt;stroke-linejoin:miter;stroke-opacity:1\"/>\n",
       "<path class=\"bond-13 atom-13 atom-14\" d=\"M 239.7,82.4 L 241.4,67.2\" style=\"fill:none;fill-rule:evenodd;stroke:#000000;stroke-width:2.0px;stroke-linecap:butt;stroke-linejoin:miter;stroke-opacity:1\"/>\n",
       "<path class=\"bond-13 atom-13 atom-14\" d=\"M 241.4,67.2 L 243.1,52.0\" style=\"fill:none;fill-rule:evenodd;stroke:#FF0000;stroke-width:2.0px;stroke-linecap:butt;stroke-linejoin:miter;stroke-opacity:1\"/>\n",
       "<path class=\"bond-14 atom-13 atom-15\" d=\"M 242.8,81.1 L 254.7,89.8\" style=\"fill:none;fill-rule:evenodd;stroke:#000000;stroke-width:2.0px;stroke-linecap:butt;stroke-linejoin:miter;stroke-opacity:1\"/>\n",
       "<path class=\"bond-14 atom-13 atom-15\" d=\"M 254.7,89.8 L 266.6,98.5\" style=\"fill:none;fill-rule:evenodd;stroke:#0000FF;stroke-width:2.0px;stroke-linecap:butt;stroke-linejoin:miter;stroke-opacity:1\"/>\n",
       "<path class=\"bond-15 atom-15 atom-1\" d=\"M 273.1,113.6 L 271.5,128.1\" style=\"fill:none;fill-rule:evenodd;stroke:#0000FF;stroke-width:2.0px;stroke-linecap:butt;stroke-linejoin:miter;stroke-opacity:1\"/>\n",
       "<path class=\"bond-15 atom-15 atom-1\" d=\"M 271.5,128.1 L 269.9,142.7\" style=\"fill:none;fill-rule:evenodd;stroke:#000000;stroke-width:2.0px;stroke-linecap:butt;stroke-linejoin:miter;stroke-opacity:1\"/>\n",
       "<path class=\"bond-16 atom-7 atom-3\" d=\"M 172.5,141.7 L 187.8,138.5\" style=\"fill:none;fill-rule:evenodd;stroke:#0000FF;stroke-width:2.0px;stroke-linecap:butt;stroke-linejoin:miter;stroke-opacity:1\"/>\n",
       "<path class=\"bond-16 atom-7 atom-3\" d=\"M 187.8,138.5 L 203.0,135.3\" style=\"fill:none;fill-rule:evenodd;stroke:#000000;stroke-width:2.0px;stroke-linecap:butt;stroke-linejoin:miter;stroke-opacity:1\"/>\n",
       "<path d=\"M 146.2,109.0 L 145.7,109.5 L 146.1,110.1\" style=\"fill:none;stroke:#000000;stroke-width:2.0px;stroke-linecap:butt;stroke-linejoin:miter;stroke-opacity:1;\"/>\n",
       "<path d=\"M 149.3,178.0 L 149.0,178.7 L 148.3,178.7\" style=\"fill:none;stroke:#000000;stroke-width:2.0px;stroke-linecap:butt;stroke-linejoin:miter;stroke-opacity:1;\"/>\n",
       "<path d=\"M 94.7,217.3 L 94.4,218.0 L 92.5,218.2\" style=\"fill:none;stroke:#000000;stroke-width:2.0px;stroke-linecap:butt;stroke-linejoin:miter;stroke-opacity:1;\"/>\n",
       "<path d=\"M 57.7,221.7 L 55.7,221.9 L 55.5,222.5\" style=\"fill:none;stroke:#000000;stroke-width:2.0px;stroke-linecap:butt;stroke-linejoin:miter;stroke-opacity:1;\"/>\n",
       "<path d=\"M 241.0,81.9 L 242.8,81.1 L 243.4,81.5\" style=\"fill:none;stroke:#000000;stroke-width:2.0px;stroke-linecap:butt;stroke-linejoin:miter;stroke-opacity:1;\"/>\n",
       "<path class=\"atom-0\" d=\"M 297.6 157.4 L 303.0 166.1 Q 303.5 167.0, 304.4 168.6 Q 305.2 170.1, 305.3 170.2 L 305.3 157.4 L 307.5 157.4 L 307.5 173.9 L 305.2 173.9 L 299.4 164.3 Q 298.7 163.2, 298.0 161.9 Q 297.3 160.7, 297.1 160.3 L 297.1 173.9 L 295.0 173.9 L 295.0 157.4 L 297.6 157.4 \" fill=\"#0000FF\"/>\n",
       "<path class=\"atom-0\" d=\"M 310.6 157.4 L 312.9 157.4 L 312.9 164.4 L 321.3 164.4 L 321.3 157.4 L 323.6 157.4 L 323.6 173.9 L 321.3 173.9 L 321.3 166.3 L 312.9 166.3 L 312.9 173.9 L 310.6 173.9 L 310.6 157.4 \" fill=\"#0000FF\"/>\n",
       "<path class=\"atom-0\" d=\"M 326.8 173.3 Q 327.2 172.3, 328.1 171.7 Q 329.1 171.1, 330.4 171.1 Q 332.1 171.1, 333.0 172.0 Q 333.9 172.9, 333.9 174.5 Q 333.9 176.1, 332.7 177.6 Q 331.5 179.1, 329.1 180.9 L 334.1 180.9 L 334.1 182.2 L 326.8 182.2 L 326.8 181.1 Q 328.8 179.7, 330.0 178.6 Q 331.2 177.5, 331.8 176.6 Q 332.4 175.6, 332.4 174.6 Q 332.4 173.5, 331.8 173.0 Q 331.3 172.4, 330.4 172.4 Q 329.5 172.4, 329.0 172.7 Q 328.4 173.1, 328.0 173.9 L 326.8 173.3 \" fill=\"#0000FF\"/>\n",
       "<path class=\"atom-2\" d=\"M 230.7 150.1 L 236.1 158.8 Q 236.6 159.7, 237.5 161.2 Q 238.4 162.8, 238.4 162.9 L 238.4 150.1 L 240.6 150.1 L 240.6 166.6 L 238.3 166.6 L 232.5 157.0 Q 231.9 155.9, 231.1 154.6 Q 230.4 153.3, 230.2 152.9 L 230.2 166.6 L 228.1 166.6 L 228.1 150.1 L 230.7 150.1 \" fill=\"#0000FF\"/>\n",
       "<path class=\"atom-5\" d=\"M 168.2 72.5 L 173.6 81.2 Q 174.1 82.1, 175.0 83.7 Q 175.8 85.2, 175.9 85.3 L 175.9 72.5 L 178.1 72.5 L 178.1 89.0 L 175.8 89.0 L 170.0 79.4 Q 169.3 78.3, 168.6 77.0 Q 167.9 75.8, 167.7 75.4 L 167.7 89.0 L 165.6 89.0 L 165.6 72.5 L 168.2 72.5 \" fill=\"#0000FF\"/>\n",
       "<path class=\"atom-7\" d=\"M 161.3 135.0 L 166.7 143.7 Q 167.3 144.6, 168.1 146.2 Q 169.0 147.7, 169.0 147.8 L 169.0 135.0 L 171.2 135.0 L 171.2 151.5 L 169.0 151.5 L 163.2 142.0 Q 162.5 140.8, 161.8 139.5 Q 161.1 138.3, 160.9 137.9 L 160.9 151.5 L 158.7 151.5 L 158.7 135.0 L 161.3 135.0 \" fill=\"#0000FF\"/>\n",
       "<path class=\"atom-9\" d=\"M 102.8 182.6 Q 102.8 178.6, 104.7 176.4 Q 106.7 174.2, 110.4 174.2 Q 114.0 174.2, 116.0 176.4 Q 117.9 178.6, 117.9 182.6 Q 117.9 186.6, 116.0 188.9 Q 114.0 191.2, 110.4 191.2 Q 106.7 191.2, 104.7 188.9 Q 102.8 186.6, 102.8 182.6 M 110.4 189.3 Q 112.9 189.3, 114.2 187.6 Q 115.6 185.9, 115.6 182.6 Q 115.6 179.4, 114.2 177.7 Q 112.9 176.1, 110.4 176.1 Q 107.8 176.1, 106.5 177.7 Q 105.1 179.3, 105.1 182.6 Q 105.1 185.9, 106.5 187.6 Q 107.8 189.3, 110.4 189.3 \" fill=\"#FF0000\"/>\n",
       "<path class=\"atom-12\" d=\"M 15.9 249.1 L 18.1 249.1 L 18.1 256.1 L 26.6 256.1 L 26.6 249.1 L 28.8 249.1 L 28.8 265.6 L 26.6 265.6 L 26.6 258.0 L 18.1 258.0 L 18.1 265.6 L 15.9 265.6 L 15.9 249.1 \" fill=\"#FF0000\"/>\n",
       "<path class=\"atom-12\" d=\"M 32.2 257.3 Q 32.2 253.4, 34.2 251.1 Q 36.1 248.9, 39.8 248.9 Q 43.4 248.9, 45.4 251.1 Q 47.4 253.4, 47.4 257.3 Q 47.4 261.3, 45.4 263.6 Q 43.4 265.9, 39.8 265.9 Q 36.1 265.9, 34.2 263.6 Q 32.2 261.4, 32.2 257.3 M 39.8 264.0 Q 42.3 264.0, 43.7 262.3 Q 45.0 260.6, 45.0 257.3 Q 45.0 254.1, 43.7 252.5 Q 42.3 250.8, 39.8 250.8 Q 37.3 250.8, 35.9 252.4 Q 34.5 254.1, 34.5 257.3 Q 34.5 260.7, 35.9 262.3 Q 37.3 264.0, 39.8 264.0 \" fill=\"#FF0000\"/>\n",
       "<path class=\"atom-14\" d=\"M 239.5 42.5 Q 239.5 38.5, 241.4 36.3 Q 243.4 34.1, 247.0 34.1 Q 250.7 34.1, 252.7 36.3 Q 254.6 38.5, 254.6 42.5 Q 254.6 46.5, 252.6 48.8 Q 250.7 51.1, 247.0 51.1 Q 243.4 51.1, 241.4 48.8 Q 239.5 46.5, 239.5 42.5 M 247.0 49.2 Q 249.6 49.2, 250.9 47.5 Q 252.3 45.8, 252.3 42.5 Q 252.3 39.3, 250.9 37.6 Q 249.6 36.0, 247.0 36.0 Q 244.5 36.0, 243.1 37.6 Q 241.8 39.2, 241.8 42.5 Q 241.8 45.8, 243.1 47.5 Q 244.5 49.2, 247.0 49.2 \" fill=\"#FF0000\"/>\n",
       "<path class=\"atom-15\" d=\"M 270.5 95.8 L 275.9 104.5 Q 276.4 105.4, 277.3 107.0 Q 278.2 108.5, 278.2 108.6 L 278.2 95.8 L 280.4 95.8 L 280.4 112.3 L 278.1 112.3 L 272.3 102.8 Q 271.7 101.6, 270.9 100.3 Q 270.2 99.1, 270.0 98.7 L 270.0 112.3 L 267.9 112.3 L 267.9 95.8 L 270.5 95.8 \" fill=\"#0000FF\"/>\n",
       "<path class=\"atom-15\" d=\"M 283.6 95.8 L 285.8 95.8 L 285.8 102.8 L 294.3 102.8 L 294.3 95.8 L 296.5 95.8 L 296.5 112.3 L 294.3 112.3 L 294.3 104.7 L 285.8 104.7 L 285.8 112.3 L 283.6 112.3 L 283.6 95.8 \" fill=\"#0000FF\"/>\n",
       "</svg>"
      ],
      "text/plain": [
       "<IPython.core.display.SVG object>"
      ]
     },
     "execution_count": 6,
     "metadata": {},
     "output_type": "execute_result"
    }
   ],
   "source": [
    "d2d = rdMolDraw2D.MolDraw2DSVG(350,300)\n",
    "d2d.DrawMolecule(mol1)\n",
    "d2d.FinishDrawing()\n",
    "SVG(d2d.GetDrawingText())"
   ]
  },
  {
   "cell_type": "code",
   "execution_count": 16,
   "id": "f30689f3-b552-4327-81fb-9d762a699d44",
   "metadata": {},
   "outputs": [],
   "source": [
    "SVGtext3 = d2d.GetDrawingText()"
   ]
  },
  {
   "cell_type": "code",
   "execution_count": 8,
   "id": "830c7d77-318d-4e58-9dc4-8179ed08eba1",
   "metadata": {
    "scrolled": true
   },
   "outputs": [
    {
     "data": {
      "text/plain": [
       "\"<?xml version='1.0' encoding='iso-8859-1'?>\\n<svg version='1.1' baseProfile='full'\\n              xmlns='http://www.w3.org/2000/svg'\\n                      xmlns:rdkit='http://www.rdkit.org/xml'\\n                      xmlns:xlink='http://www.w3.org/1999/xlink'\\n                  xml:space='preserve'\\nwidth='350px' height='300px' viewBox='0 0 350 300'>\\n<!-- END OF HEADER -->\\n<rect style='opacity:1.0;fill:#FFFFFF;stroke:none' width='350.0' height='300.0' x='0.0' y='0.0'> </rect>\\n<path class='bond-0 atom-0 atom-1' d='M 293.7,160.1 L 281.8,151.4' style='fill:none;fill-rule:evenodd;stroke:#0000FF;stroke-width:2.0px;stroke-linecap:butt;stroke-linejoin:miter;stroke-opacity:1' />\\n<path class='bond-0 atom-0 atom-1' d='M 281.8,151.4 L 269.9,142.7' style='fill:none;fill-rule:evenodd;stroke:#000000;stroke-width:2.0px;stroke-linecap:butt;stroke-linejoin:miter;stroke-opacity:1' />\\n<path class='bond-1 atom-1 atom-2' d='M 269.9,142.7 L 255.9,148.8' style='fill:none;fill-rule:evenodd;stroke:#000000;stroke-width:2.0px;stroke-linecap:butt;stroke-linejoin:miter;stroke-opacity:1' />\\n<path class='bond-1 atom-1 atom-2' d='M 255.9,148.8 L 241.9,155.0' style='fill:none;fill-rule:evenodd;stroke:#0000FF;stroke-width:2.0px;stroke-linecap:butt;stroke-linejoin:miter;stroke-opacity:1' />\\n<path class='bond-1 atom-1 atom-2' d='M 264.5,138.7 L 252.0,144.2' style='fill:none;fill-rule:evenodd;stroke:#000000;stroke-width:2.0px;stroke-linecap:butt;stroke-linejoin:miter;stroke-opacity:1' />\\n<path class='bond-1 atom-1 atom-2' d='M 252.0,144.2 L 239.5,149.7' style='fill:none;fill-rule:evenodd;stroke:#0000FF;stroke-width:2.0px;stroke-linecap:butt;stroke-linejoin:miter;stroke-opacity:1' />\\n<path class='bond-2 atom-2 atom-3' d='M 226.8,152.8 L 214.9,144.1' style='fill:none;fill-rule:evenodd;stroke:#0000FF;stroke-width:2.0px;stroke-linecap:butt;stroke-linejoin:miter;stroke-opacity:1' />\\n<path class='bond-2 atom-2 atom-3' d='M 214.9,144.1 L 203.0,135.3' style='fill:none;fill-rule:evenodd;stroke:#000000;stroke-width:2.0px;stroke-linecap:butt;stroke-linejoin:miter;stroke-opacity:1' />\\n<path class='bond-3 atom-3 atom-4' d='M 203.0,135.3 L 207.2,96.7' style='fill:none;fill-rule:evenodd;stroke:#000000;stroke-width:2.0px;stroke-linecap:butt;stroke-linejoin:miter;stroke-opacity:1' />\\n<path class='bond-3 atom-3 atom-4' d='M 209.2,132.6 L 212.7,100.7' style='fill:none;fill-rule:evenodd;stroke:#000000;stroke-width:2.0px;stroke-linecap:butt;stroke-linejoin:miter;stroke-opacity:1' />\\n<path class='bond-4 atom-4 atom-5' d='M 207.2,96.7 L 193.3,90.4' style='fill:none;fill-rule:evenodd;stroke:#000000;stroke-width:2.0px;stroke-linecap:butt;stroke-linejoin:miter;stroke-opacity:1' />\\n<path class='bond-4 atom-4 atom-5' d='M 193.3,90.4 L 179.4,84.2' style='fill:none;fill-rule:evenodd;stroke:#0000FF;stroke-width:2.0px;stroke-linecap:butt;stroke-linejoin:miter;stroke-opacity:1' />\\n<path class='bond-5 atom-5 atom-6' d='M 164.3,89.1 L 155.0,99.3' style='fill:none;fill-rule:evenodd;stroke:#0000FF;stroke-width:2.0px;stroke-linecap:butt;stroke-linejoin:miter;stroke-opacity:1' />\\n<path class='bond-5 atom-5 atom-6' d='M 155.0,99.3 L 145.7,109.5' style='fill:none;fill-rule:evenodd;stroke:#000000;stroke-width:2.0px;stroke-linecap:butt;stroke-linejoin:miter;stroke-opacity:1' />\\n<path class='bond-5 atom-5 atom-6' d='M 168.6,93.0 L 160.7,101.6' style='fill:none;fill-rule:evenodd;stroke:#0000FF;stroke-width:2.0px;stroke-linecap:butt;stroke-linejoin:miter;stroke-opacity:1' />\\n<path class='bond-5 atom-5 atom-6' d='M 160.7,101.6 L 152.9,110.3' style='fill:none;fill-rule:evenodd;stroke:#000000;stroke-width:2.0px;stroke-linecap:butt;stroke-linejoin:miter;stroke-opacity:1' />\\n<path class='bond-6 atom-6 atom-7' d='M 145.7,109.5 L 152.6,121.6' style='fill:none;fill-rule:evenodd;stroke:#000000;stroke-width:2.0px;stroke-linecap:butt;stroke-linejoin:miter;stroke-opacity:1' />\\n<path class='bond-6 atom-6 atom-7' d='M 152.6,121.6 L 159.5,133.7' style='fill:none;fill-rule:evenodd;stroke:#0000FF;stroke-width:2.0px;stroke-linecap:butt;stroke-linejoin:miter;stroke-opacity:1' />\\n<path class='bond-7 atom-7 atom-8' d='M 160.7,152.8 L 154.8,165.7' style='fill:none;fill-rule:evenodd;stroke:#0000FF;stroke-width:2.0px;stroke-linecap:butt;stroke-linejoin:miter;stroke-opacity:1' />\\n<path class='bond-7 atom-7 atom-8' d='M 154.8,165.7 L 149.0,178.7' style='fill:none;fill-rule:evenodd;stroke:#000000;stroke-width:2.0px;stroke-linecap:butt;stroke-linejoin:miter;stroke-opacity:1' />\\n<path class='bond-8 atom-8 atom-9' d='M 149.0,178.7 L 134.1,180.2' style='fill:none;fill-rule:evenodd;stroke:#000000;stroke-width:2.0px;stroke-linecap:butt;stroke-linejoin:miter;stroke-opacity:1' />\\n<path class='bond-8 atom-8 atom-9' d='M 134.1,180.2 L 119.2,181.7' style='fill:none;fill-rule:evenodd;stroke:#FF0000;stroke-width:2.0px;stroke-linecap:butt;stroke-linejoin:miter;stroke-opacity:1' />\\n<path class='bond-9 atom-9 atom-10' d='M 105.9,192.4 L 100.2,205.2' style='fill:none;fill-rule:evenodd;stroke:#FF0000;stroke-width:2.0px;stroke-linecap:butt;stroke-linejoin:miter;stroke-opacity:1' />\\n<path class='bond-9 atom-9 atom-10' d='M 100.2,205.2 L 94.4,218.0' style='fill:none;fill-rule:evenodd;stroke:#000000;stroke-width:2.0px;stroke-linecap:butt;stroke-linejoin:miter;stroke-opacity:1' />\\n<path class='bond-10 atom-10 atom-11' d='M 94.4,218.0 L 55.7,221.9' style='fill:none;fill-rule:evenodd;stroke:#000000;stroke-width:2.0px;stroke-linecap:butt;stroke-linejoin:miter;stroke-opacity:1' />\\n<path class='bond-11 atom-11 atom-12' d='M 55.7,221.9 L 49.9,234.8' style='fill:none;fill-rule:evenodd;stroke:#000000;stroke-width:2.0px;stroke-linecap:butt;stroke-linejoin:miter;stroke-opacity:1' />\\n<path class='bond-11 atom-11 atom-12' d='M 49.9,234.8 L 44.1,247.7' style='fill:none;fill-rule:evenodd;stroke:#FF0000;stroke-width:2.0px;stroke-linecap:butt;stroke-linejoin:miter;stroke-opacity:1' />\\n<path class='bond-12 atom-4 atom-13' d='M 207.2,96.7 L 242.8,81.1' style='fill:none;fill-rule:evenodd;stroke:#000000;stroke-width:2.0px;stroke-linecap:butt;stroke-linejoin:miter;stroke-opacity:1' />\\n<path class='bond-13 atom-13 atom-14' d='M 245.5,83.1 L 247.2,67.9' style='fill:none;fill-rule:evenodd;stroke:#000000;stroke-width:2.0px;stroke-linecap:butt;stroke-linejoin:miter;stroke-opacity:1' />\\n<path class='bond-13 atom-13 atom-14' d='M 247.2,67.9 L 248.9,52.7' style='fill:none;fill-rule:evenodd;stroke:#FF0000;stroke-width:2.0px;stroke-linecap:butt;stroke-linejoin:miter;stroke-opacity:1' />\\n<path class='bond-13 atom-13 atom-14' d='M 239.7,82.4 L 241.4,67.2' style='fill:none;fill-rule:evenodd;stroke:#000000;stroke-width:2.0px;stroke-linecap:butt;stroke-linejoin:miter;stroke-opacity:1' />\\n<path class='bond-13 atom-13 atom-14' d='M 241.4,67.2 L 243.1,52.0' style='fill:none;fill-rule:evenodd;stroke:#FF0000;stroke-width:2.0px;stroke-linecap:butt;stroke-linejoin:miter;stroke-opacity:1' />\\n<path class='bond-14 atom-13 atom-15' d='M 242.8,81.1 L 254.7,89.8' style='fill:none;fill-rule:evenodd;stroke:#000000;stroke-width:2.0px;stroke-linecap:butt;stroke-linejoin:miter;stroke-opacity:1' />\\n<path class='bond-14 atom-13 atom-15' d='M 254.7,89.8 L 266.6,98.5' style='fill:none;fill-rule:evenodd;stroke:#0000FF;stroke-width:2.0px;stroke-linecap:butt;stroke-linejoin:miter;stroke-opacity:1' />\\n<path class='bond-15 atom-15 atom-1' d='M 273.1,113.6 L 271.5,128.1' style='fill:none;fill-rule:evenodd;stroke:#0000FF;stroke-width:2.0px;stroke-linecap:butt;stroke-linejoin:miter;stroke-opacity:1' />\\n<path class='bond-15 atom-15 atom-1' d='M 271.5,128.1 L 269.9,142.7' style='fill:none;fill-rule:evenodd;stroke:#000000;stroke-width:2.0px;stroke-linecap:butt;stroke-linejoin:miter;stroke-opacity:1' />\\n<path class='bond-16 atom-7 atom-3' d='M 172.5,141.7 L 187.8,138.5' style='fill:none;fill-rule:evenodd;stroke:#0000FF;stroke-width:2.0px;stroke-linecap:butt;stroke-linejoin:miter;stroke-opacity:1' />\\n<path class='bond-16 atom-7 atom-3' d='M 187.8,138.5 L 203.0,135.3' style='fill:none;fill-rule:evenodd;stroke:#000000;stroke-width:2.0px;stroke-linecap:butt;stroke-linejoin:miter;stroke-opacity:1' />\\n<path d='M 146.2,109.0 L 145.7,109.5 L 146.1,110.1' style='fill:none;stroke:#000000;stroke-width:2.0px;stroke-linecap:butt;stroke-linejoin:miter;stroke-opacity:1;' />\\n<path d='M 149.3,178.0 L 149.0,178.7 L 148.3,178.7' style='fill:none;stroke:#000000;stroke-width:2.0px;stroke-linecap:butt;stroke-linejoin:miter;stroke-opacity:1;' />\\n<path d='M 94.7,217.3 L 94.4,218.0 L 92.5,218.2' style='fill:none;stroke:#000000;stroke-width:2.0px;stroke-linecap:butt;stroke-linejoin:miter;stroke-opacity:1;' />\\n<path d='M 57.7,221.7 L 55.7,221.9 L 55.5,222.5' style='fill:none;stroke:#000000;stroke-width:2.0px;stroke-linecap:butt;stroke-linejoin:miter;stroke-opacity:1;' />\\n<path d='M 241.0,81.9 L 242.8,81.1 L 243.4,81.5' style='fill:none;stroke:#000000;stroke-width:2.0px;stroke-linecap:butt;stroke-linejoin:miter;stroke-opacity:1;' />\\n<path class='atom-0' d='M 297.6 157.4\\nL 303.0 166.1\\nQ 303.5 167.0, 304.4 168.6\\nQ 305.2 170.1, 305.3 170.2\\nL 305.3 157.4\\nL 307.5 157.4\\nL 307.5 173.9\\nL 305.2 173.9\\nL 299.4 164.3\\nQ 298.7 163.2, 298.0 161.9\\nQ 297.3 160.7, 297.1 160.3\\nL 297.1 173.9\\nL 295.0 173.9\\nL 295.0 157.4\\nL 297.6 157.4\\n' fill='#0000FF'/>\\n<path class='atom-0' d='M 310.6 157.4\\nL 312.9 157.4\\nL 312.9 164.4\\nL 321.3 164.4\\nL 321.3 157.4\\nL 323.6 157.4\\nL 323.6 173.9\\nL 321.3 173.9\\nL 321.3 166.3\\nL 312.9 166.3\\nL 312.9 173.9\\nL 310.6 173.9\\nL 310.6 157.4\\n' fill='#0000FF'/>\\n<path class='atom-0' d='M 326.8 173.3\\nQ 327.2 172.3, 328.1 171.7\\nQ 329.1 171.1, 330.4 171.1\\nQ 332.1 171.1, 333.0 172.0\\nQ 333.9 172.9, 333.9 174.5\\nQ 333.9 176.1, 332.7 177.6\\nQ 331.5 179.1, 329.1 180.9\\nL 334.1 180.9\\nL 334.1 182.2\\nL 326.8 182.2\\nL 326.8 181.1\\nQ 328.8 179.7, 330.0 178.6\\nQ 331.2 177.5, 331.8 176.6\\nQ 332.4 175.6, 332.4 174.6\\nQ 332.4 173.5, 331.8 173.0\\nQ 331.3 172.4, 330.4 172.4\\nQ 329.5 172.4, 329.0 172.7\\nQ 328.4 173.1, 328.0 173.9\\nL 326.8 173.3\\n' fill='#0000FF'/>\\n<path class='atom-2' d='M 230.7 150.1\\nL 236.1 158.8\\nQ 236.6 159.7, 237.5 161.2\\nQ 238.4 162.8, 238.4 162.9\\nL 238.4 150.1\\nL 240.6 150.1\\nL 240.6 166.6\\nL 238.3 166.6\\nL 232.5 157.0\\nQ 231.9 155.9, 231.1 154.6\\nQ 230.4 153.3, 230.2 152.9\\nL 230.2 166.6\\nL 228.1 166.6\\nL 228.1 150.1\\nL 230.7 150.1\\n' fill='#0000FF'/>\\n<path class='atom-5' d='M 168.2 72.5\\nL 173.6 81.2\\nQ 174.1 82.1, 175.0 83.7\\nQ 175.8 85.2, 175.9 85.3\\nL 175.9 72.5\\nL 178.1 72.5\\nL 178.1 89.0\\nL 175.8 89.0\\nL 170.0 79.4\\nQ 169.3 78.3, 168.6 77.0\\nQ 167.9 75.8, 167.7 75.4\\nL 167.7 89.0\\nL 165.6 89.0\\nL 165.6 72.5\\nL 168.2 72.5\\n' fill='#0000FF'/>\\n<path class='atom-7' d='M 161.3 135.0\\nL 166.7 143.7\\nQ 167.3 144.6, 168.1 146.2\\nQ 169.0 147.7, 169.0 147.8\\nL 169.0 135.0\\nL 171.2 135.0\\nL 171.2 151.5\\nL 169.0 151.5\\nL 163.2 142.0\\nQ 162.5 140.8, 161.8 139.5\\nQ 161.1 138.3, 160.9 137.9\\nL 160.9 151.5\\nL 158.7 151.5\\nL 158.7 135.0\\nL 161.3 135.0\\n' fill='#0000FF'/>\\n<path class='atom-9' d='M 102.8 182.6\\nQ 102.8 178.6, 104.7 176.4\\nQ 106.7 174.2, 110.4 174.2\\nQ 114.0 174.2, 116.0 176.4\\nQ 117.9 178.6, 117.9 182.6\\nQ 117.9 186.6, 116.0 188.9\\nQ 114.0 191.2, 110.4 191.2\\nQ 106.7 191.2, 104.7 188.9\\nQ 102.8 186.6, 102.8 182.6\\nM 110.4 189.3\\nQ 112.9 189.3, 114.2 187.6\\nQ 115.6 185.9, 115.6 182.6\\nQ 115.6 179.4, 114.2 177.7\\nQ 112.9 176.1, 110.4 176.1\\nQ 107.8 176.1, 106.5 177.7\\nQ 105.1 179.3, 105.1 182.6\\nQ 105.1 185.9, 106.5 187.6\\nQ 107.8 189.3, 110.4 189.3\\n' fill='#FF0000'/>\\n<path class='atom-12' d='M 15.9 249.1\\nL 18.1 249.1\\nL 18.1 256.1\\nL 26.6 256.1\\nL 26.6 249.1\\nL 28.8 249.1\\nL 28.8 265.6\\nL 26.6 265.6\\nL 26.6 258.0\\nL 18.1 258.0\\nL 18.1 265.6\\nL 15.9 265.6\\nL 15.9 249.1\\n' fill='#FF0000'/>\\n<path class='atom-12' d='M 32.2 257.3\\nQ 32.2 253.4, 34.2 251.1\\nQ 36.1 248.9, 39.8 248.9\\nQ 43.4 248.9, 45.4 251.1\\nQ 47.4 253.4, 47.4 257.3\\nQ 47.4 261.3, 45.4 263.6\\nQ 43.4 265.9, 39.8 265.9\\nQ 36.1 265.9, 34.2 263.6\\nQ 32.2 261.4, 32.2 257.3\\nM 39.8 264.0\\nQ 42.3 264.0, 43.7 262.3\\nQ 45.0 260.6, 45.0 257.3\\nQ 45.0 254.1, 43.7 252.5\\nQ 42.3 250.8, 39.8 250.8\\nQ 37.3 250.8, 35.9 252.4\\nQ 34.5 254.1, 34.5 257.3\\nQ 34.5 260.7, 35.9 262.3\\nQ 37.3 264.0, 39.8 264.0\\n' fill='#FF0000'/>\\n<path class='atom-14' d='M 239.5 42.5\\nQ 239.5 38.5, 241.4 36.3\\nQ 243.4 34.1, 247.0 34.1\\nQ 250.7 34.1, 252.7 36.3\\nQ 254.6 38.5, 254.6 42.5\\nQ 254.6 46.5, 252.6 48.8\\nQ 250.7 51.1, 247.0 51.1\\nQ 243.4 51.1, 241.4 48.8\\nQ 239.5 46.5, 239.5 42.5\\nM 247.0 49.2\\nQ 249.6 49.2, 250.9 47.5\\nQ 252.3 45.8, 252.3 42.5\\nQ 252.3 39.3, 250.9 37.6\\nQ 249.6 36.0, 247.0 36.0\\nQ 244.5 36.0, 243.1 37.6\\nQ 241.8 39.2, 241.8 42.5\\nQ 241.8 45.8, 243.1 47.5\\nQ 244.5 49.2, 247.0 49.2\\n' fill='#FF0000'/>\\n<path class='atom-15' d='M 270.5 95.8\\nL 275.9 104.5\\nQ 276.4 105.4, 277.3 107.0\\nQ 278.2 108.5, 278.2 108.6\\nL 278.2 95.8\\nL 280.4 95.8\\nL 280.4 112.3\\nL 278.1 112.3\\nL 272.3 102.8\\nQ 271.7 101.6, 270.9 100.3\\nQ 270.2 99.1, 270.0 98.7\\nL 270.0 112.3\\nL 267.9 112.3\\nL 267.9 95.8\\nL 270.5 95.8\\n' fill='#0000FF'/>\\n<path class='atom-15' d='M 283.6 95.8\\nL 285.8 95.8\\nL 285.8 102.8\\nL 294.3 102.8\\nL 294.3 95.8\\nL 296.5 95.8\\nL 296.5 112.3\\nL 294.3 112.3\\nL 294.3 104.7\\nL 285.8 104.7\\nL 285.8 112.3\\nL 283.6 112.3\\nL 283.6 95.8\\n' fill='#0000FF'/>\\n</svg>\\n\""
      ]
     },
     "execution_count": 8,
     "metadata": {},
     "output_type": "execute_result"
    }
   ],
   "source": [
    "SVGtext"
   ]
  },
  {
   "cell_type": "code",
   "execution_count": 9,
   "id": "8fa06b21-0ca4-48b1-8779-bb712f702c86",
   "metadata": {},
   "outputs": [],
   "source": [
    "imageFileName = 'images/2453.svg'"
   ]
  },
  {
   "cell_type": "code",
   "execution_count": 10,
   "id": "59399a6b-bfd1-4069-90f6-971e3d712531",
   "metadata": {},
   "outputs": [],
   "source": [
    "with open(imageFileName, 'w') as f:\n",
    "    f.write(SVGtext)"
   ]
  },
  {
   "cell_type": "code",
   "execution_count": 19,
   "id": "e6cecff0-ae2a-4bc2-9175-0ee21527a597",
   "metadata": {},
   "outputs": [
    {
     "data": {
      "image/svg+xml": [
       "<svg xmlns=\"http://www.w3.org/2000/svg\" xmlns:rdkit=\"http://www.rdkit.org/xml\" xmlns:xlink=\"http://www.w3.org/1999/xlink\" version=\"1.1\" baseProfile=\"full\" xml:space=\"preserve\" width=\"350px\" height=\"300px\" viewBox=\"0 0 350 300\">\n",
       "<!-- END OF HEADER -->\n",
       "<rect style=\"opacity:1.0;fill:#FFFFFF;stroke:none\" width=\"350.0\" height=\"300.0\" x=\"0.0\" y=\"0.0\"> </rect>\n",
       "<path class=\"bond-0 atom-0 atom-1\" d=\"M 293.7,160.1 L 281.8,151.4\" style=\"fill:none;fill-rule:evenodd;stroke:#0000FF;stroke-width:2.0px;stroke-linecap:butt;stroke-linejoin:miter;stroke-opacity:1\"/>\n",
       "<path class=\"bond-0 atom-0 atom-1\" d=\"M 281.8,151.4 L 269.9,142.7\" style=\"fill:none;fill-rule:evenodd;stroke:#000000;stroke-width:2.0px;stroke-linecap:butt;stroke-linejoin:miter;stroke-opacity:1\"/>\n",
       "<path class=\"bond-1 atom-1 atom-2\" d=\"M 269.9,142.7 L 255.9,148.8\" style=\"fill:none;fill-rule:evenodd;stroke:#000000;stroke-width:2.0px;stroke-linecap:butt;stroke-linejoin:miter;stroke-opacity:1\"/>\n",
       "<path class=\"bond-1 atom-1 atom-2\" d=\"M 255.9,148.8 L 241.9,155.0\" style=\"fill:none;fill-rule:evenodd;stroke:#0000FF;stroke-width:2.0px;stroke-linecap:butt;stroke-linejoin:miter;stroke-opacity:1\"/>\n",
       "<path class=\"bond-1 atom-1 atom-2\" d=\"M 264.5,138.7 L 252.0,144.2\" style=\"fill:none;fill-rule:evenodd;stroke:#000000;stroke-width:2.0px;stroke-linecap:butt;stroke-linejoin:miter;stroke-opacity:1\"/>\n",
       "<path class=\"bond-1 atom-1 atom-2\" d=\"M 252.0,144.2 L 239.5,149.7\" style=\"fill:none;fill-rule:evenodd;stroke:#0000FF;stroke-width:2.0px;stroke-linecap:butt;stroke-linejoin:miter;stroke-opacity:1\"/>\n",
       "<path class=\"bond-2 atom-2 atom-3\" d=\"M 226.8,152.8 L 214.9,144.1\" style=\"fill:none;fill-rule:evenodd;stroke:#0000FF;stroke-width:2.0px;stroke-linecap:butt;stroke-linejoin:miter;stroke-opacity:1\"/>\n",
       "<path class=\"bond-2 atom-2 atom-3\" d=\"M 214.9,144.1 L 203.0,135.3\" style=\"fill:none;fill-rule:evenodd;stroke:#000000;stroke-width:2.0px;stroke-linecap:butt;stroke-linejoin:miter;stroke-opacity:1\"/>\n",
       "<path class=\"bond-3 atom-3 atom-4\" d=\"M 203.0,135.3 L 207.2,96.7\" style=\"fill:none;fill-rule:evenodd;stroke:#000000;stroke-width:2.0px;stroke-linecap:butt;stroke-linejoin:miter;stroke-opacity:1\"/>\n",
       "<path class=\"bond-3 atom-3 atom-4\" d=\"M 209.2,132.6 L 212.7,100.7\" style=\"fill:none;fill-rule:evenodd;stroke:#000000;stroke-width:2.0px;stroke-linecap:butt;stroke-linejoin:miter;stroke-opacity:1\"/>\n",
       "<path class=\"bond-4 atom-4 atom-5\" d=\"M 207.2,96.7 L 193.3,90.4\" style=\"fill:none;fill-rule:evenodd;stroke:#000000;stroke-width:2.0px;stroke-linecap:butt;stroke-linejoin:miter;stroke-opacity:1\"/>\n",
       "<path class=\"bond-4 atom-4 atom-5\" d=\"M 193.3,90.4 L 179.4,84.2\" style=\"fill:none;fill-rule:evenodd;stroke:#0000FF;stroke-width:2.0px;stroke-linecap:butt;stroke-linejoin:miter;stroke-opacity:1\"/>\n",
       "<path class=\"bond-5 atom-5 atom-6\" d=\"M 164.3,89.1 L 155.0,99.3\" style=\"fill:none;fill-rule:evenodd;stroke:#0000FF;stroke-width:2.0px;stroke-linecap:butt;stroke-linejoin:miter;stroke-opacity:1\"/>\n",
       "<path class=\"bond-5 atom-5 atom-6\" d=\"M 155.0,99.3 L 145.7,109.5\" style=\"fill:none;fill-rule:evenodd;stroke:#000000;stroke-width:2.0px;stroke-linecap:butt;stroke-linejoin:miter;stroke-opacity:1\"/>\n",
       "<path class=\"bond-5 atom-5 atom-6\" d=\"M 168.6,93.0 L 160.7,101.6\" style=\"fill:none;fill-rule:evenodd;stroke:#0000FF;stroke-width:2.0px;stroke-linecap:butt;stroke-linejoin:miter;stroke-opacity:1\"/>\n",
       "<path class=\"bond-5 atom-5 atom-6\" d=\"M 160.7,101.6 L 152.9,110.3\" style=\"fill:none;fill-rule:evenodd;stroke:#000000;stroke-width:2.0px;stroke-linecap:butt;stroke-linejoin:miter;stroke-opacity:1\"/>\n",
       "<path class=\"bond-6 atom-6 atom-7\" d=\"M 145.7,109.5 L 152.6,121.6\" style=\"fill:none;fill-rule:evenodd;stroke:#000000;stroke-width:2.0px;stroke-linecap:butt;stroke-linejoin:miter;stroke-opacity:1\"/>\n",
       "<path class=\"bond-6 atom-6 atom-7\" d=\"M 152.6,121.6 L 159.5,133.7\" style=\"fill:none;fill-rule:evenodd;stroke:#0000FF;stroke-width:2.0px;stroke-linecap:butt;stroke-linejoin:miter;stroke-opacity:1\"/>\n",
       "<path class=\"bond-7 atom-7 atom-8\" d=\"M 160.7,152.8 L 154.8,165.7\" style=\"fill:none;fill-rule:evenodd;stroke:#0000FF;stroke-width:2.0px;stroke-linecap:butt;stroke-linejoin:miter;stroke-opacity:1\"/>\n",
       "<path class=\"bond-7 atom-7 atom-8\" d=\"M 154.8,165.7 L 149.0,178.7\" style=\"fill:none;fill-rule:evenodd;stroke:#000000;stroke-width:2.0px;stroke-linecap:butt;stroke-linejoin:miter;stroke-opacity:1\"/>\n",
       "<path class=\"bond-8 atom-8 atom-9\" d=\"M 149.0,178.7 L 134.1,180.2\" style=\"fill:none;fill-rule:evenodd;stroke:#000000;stroke-width:2.0px;stroke-linecap:butt;stroke-linejoin:miter;stroke-opacity:1\"/>\n",
       "<path class=\"bond-8 atom-8 atom-9\" d=\"M 134.1,180.2 L 119.2,181.7\" style=\"fill:none;fill-rule:evenodd;stroke:#FF0000;stroke-width:2.0px;stroke-linecap:butt;stroke-linejoin:miter;stroke-opacity:1\"/>\n",
       "<path class=\"bond-9 atom-9 atom-10\" d=\"M 105.9,192.4 L 100.2,205.2\" style=\"fill:none;fill-rule:evenodd;stroke:#FF0000;stroke-width:2.0px;stroke-linecap:butt;stroke-linejoin:miter;stroke-opacity:1\"/>\n",
       "<path class=\"bond-9 atom-9 atom-10\" d=\"M 100.2,205.2 L 94.4,218.0\" style=\"fill:none;fill-rule:evenodd;stroke:#000000;stroke-width:2.0px;stroke-linecap:butt;stroke-linejoin:miter;stroke-opacity:1\"/>\n",
       "<path class=\"bond-10 atom-10 atom-11\" d=\"M 94.4,218.0 L 55.7,221.9\" style=\"fill:none;fill-rule:evenodd;stroke:#000000;stroke-width:2.0px;stroke-linecap:butt;stroke-linejoin:miter;stroke-opacity:1\"/>\n",
       "<path class=\"bond-11 atom-11 atom-12\" d=\"M 55.7,221.9 L 49.9,234.8\" style=\"fill:none;fill-rule:evenodd;stroke:#000000;stroke-width:2.0px;stroke-linecap:butt;stroke-linejoin:miter;stroke-opacity:1\"/>\n",
       "<path class=\"bond-11 atom-11 atom-12\" d=\"M 49.9,234.8 L 44.1,247.7\" style=\"fill:none;fill-rule:evenodd;stroke:#FF0000;stroke-width:2.0px;stroke-linecap:butt;stroke-linejoin:miter;stroke-opacity:1\"/>\n",
       "<path class=\"bond-12 atom-4 atom-13\" d=\"M 207.2,96.7 L 242.8,81.1\" style=\"fill:none;fill-rule:evenodd;stroke:#000000;stroke-width:2.0px;stroke-linecap:butt;stroke-linejoin:miter;stroke-opacity:1\"/>\n",
       "<path class=\"bond-13 atom-13 atom-14\" d=\"M 245.5,83.1 L 247.2,67.9\" style=\"fill:none;fill-rule:evenodd;stroke:#000000;stroke-width:2.0px;stroke-linecap:butt;stroke-linejoin:miter;stroke-opacity:1\"/>\n",
       "<path class=\"bond-13 atom-13 atom-14\" d=\"M 247.2,67.9 L 248.9,52.7\" style=\"fill:none;fill-rule:evenodd;stroke:#FF0000;stroke-width:2.0px;stroke-linecap:butt;stroke-linejoin:miter;stroke-opacity:1\"/>\n",
       "<path class=\"bond-13 atom-13 atom-14\" d=\"M 239.7,82.4 L 241.4,67.2\" style=\"fill:none;fill-rule:evenodd;stroke:#000000;stroke-width:2.0px;stroke-linecap:butt;stroke-linejoin:miter;stroke-opacity:1\"/>\n",
       "<path class=\"bond-13 atom-13 atom-14\" d=\"M 241.4,67.2 L 243.1,52.0\" style=\"fill:none;fill-rule:evenodd;stroke:#FF0000;stroke-width:2.0px;stroke-linecap:butt;stroke-linejoin:miter;stroke-opacity:1\"/>\n",
       "<path class=\"bond-14 atom-13 atom-15\" d=\"M 242.8,81.1 L 254.7,89.8\" style=\"fill:none;fill-rule:evenodd;stroke:#000000;stroke-width:2.0px;stroke-linecap:butt;stroke-linejoin:miter;stroke-opacity:1\"/>\n",
       "<path class=\"bond-14 atom-13 atom-15\" d=\"M 254.7,89.8 L 266.6,98.5\" style=\"fill:none;fill-rule:evenodd;stroke:#0000FF;stroke-width:2.0px;stroke-linecap:butt;stroke-linejoin:miter;stroke-opacity:1\"/>\n",
       "<path class=\"bond-15 atom-15 atom-1\" d=\"M 273.1,113.6 L 271.5,128.1\" style=\"fill:none;fill-rule:evenodd;stroke:#0000FF;stroke-width:2.0px;stroke-linecap:butt;stroke-linejoin:miter;stroke-opacity:1\"/>\n",
       "<path class=\"bond-15 atom-15 atom-1\" d=\"M 271.5,128.1 L 269.9,142.7\" style=\"fill:none;fill-rule:evenodd;stroke:#000000;stroke-width:2.0px;stroke-linecap:butt;stroke-linejoin:miter;stroke-opacity:1\"/>\n",
       "<path class=\"bond-16 atom-7 atom-3\" d=\"M 172.5,141.7 L 187.8,138.5\" style=\"fill:none;fill-rule:evenodd;stroke:#0000FF;stroke-width:2.0px;stroke-linecap:butt;stroke-linejoin:miter;stroke-opacity:1\"/>\n",
       "<path class=\"bond-16 atom-7 atom-3\" d=\"M 187.8,138.5 L 203.0,135.3\" style=\"fill:none;fill-rule:evenodd;stroke:#000000;stroke-width:2.0px;stroke-linecap:butt;stroke-linejoin:miter;stroke-opacity:1\"/>\n",
       "<path d=\"M 146.2,109.0 L 145.7,109.5 L 146.1,110.1\" style=\"fill:none;stroke:#000000;stroke-width:2.0px;stroke-linecap:butt;stroke-linejoin:miter;stroke-opacity:1;\"/>\n",
       "<path d=\"M 149.3,178.0 L 149.0,178.7 L 148.3,178.7\" style=\"fill:none;stroke:#000000;stroke-width:2.0px;stroke-linecap:butt;stroke-linejoin:miter;stroke-opacity:1;\"/>\n",
       "<path d=\"M 94.7,217.3 L 94.4,218.0 L 92.5,218.2\" style=\"fill:none;stroke:#000000;stroke-width:2.0px;stroke-linecap:butt;stroke-linejoin:miter;stroke-opacity:1;\"/>\n",
       "<path d=\"M 57.7,221.7 L 55.7,221.9 L 55.5,222.5\" style=\"fill:none;stroke:#000000;stroke-width:2.0px;stroke-linecap:butt;stroke-linejoin:miter;stroke-opacity:1;\"/>\n",
       "<path d=\"M 241.0,81.9 L 242.8,81.1 L 243.4,81.5\" style=\"fill:none;stroke:#000000;stroke-width:2.0px;stroke-linecap:butt;stroke-linejoin:miter;stroke-opacity:1;\"/>\n",
       "<path class=\"atom-0\" d=\"M 297.6 157.4 L 303.0 166.1 Q 303.5 167.0, 304.4 168.6 Q 305.2 170.1, 305.3 170.2 L 305.3 157.4 L 307.5 157.4 L 307.5 173.9 L 305.2 173.9 L 299.4 164.3 Q 298.7 163.2, 298.0 161.9 Q 297.3 160.7, 297.1 160.3 L 297.1 173.9 L 295.0 173.9 L 295.0 157.4 L 297.6 157.4 \" fill=\"#0000FF\"/>\n",
       "<path class=\"atom-0\" d=\"M 310.6 157.4 L 312.9 157.4 L 312.9 164.4 L 321.3 164.4 L 321.3 157.4 L 323.6 157.4 L 323.6 173.9 L 321.3 173.9 L 321.3 166.3 L 312.9 166.3 L 312.9 173.9 L 310.6 173.9 L 310.6 157.4 \" fill=\"#0000FF\"/>\n",
       "<path class=\"atom-0\" d=\"M 326.8 173.3 Q 327.2 172.3, 328.1 171.7 Q 329.1 171.1, 330.4 171.1 Q 332.1 171.1, 333.0 172.0 Q 333.9 172.9, 333.9 174.5 Q 333.9 176.1, 332.7 177.6 Q 331.5 179.1, 329.1 180.9 L 334.1 180.9 L 334.1 182.2 L 326.8 182.2 L 326.8 181.1 Q 328.8 179.7, 330.0 178.6 Q 331.2 177.5, 331.8 176.6 Q 332.4 175.6, 332.4 174.6 Q 332.4 173.5, 331.8 173.0 Q 331.3 172.4, 330.4 172.4 Q 329.5 172.4, 329.0 172.7 Q 328.4 173.1, 328.0 173.9 L 326.8 173.3 \" fill=\"#0000FF\"/>\n",
       "<path class=\"atom-2\" d=\"M 230.7 150.1 L 236.1 158.8 Q 236.6 159.7, 237.5 161.2 Q 238.4 162.8, 238.4 162.9 L 238.4 150.1 L 240.6 150.1 L 240.6 166.6 L 238.3 166.6 L 232.5 157.0 Q 231.9 155.9, 231.1 154.6 Q 230.4 153.3, 230.2 152.9 L 230.2 166.6 L 228.1 166.6 L 228.1 150.1 L 230.7 150.1 \" fill=\"#0000FF\"/>\n",
       "<path class=\"atom-5\" d=\"M 168.2 72.5 L 173.6 81.2 Q 174.1 82.1, 175.0 83.7 Q 175.8 85.2, 175.9 85.3 L 175.9 72.5 L 178.1 72.5 L 178.1 89.0 L 175.8 89.0 L 170.0 79.4 Q 169.3 78.3, 168.6 77.0 Q 167.9 75.8, 167.7 75.4 L 167.7 89.0 L 165.6 89.0 L 165.6 72.5 L 168.2 72.5 \" fill=\"#0000FF\"/>\n",
       "<path class=\"atom-7\" d=\"M 161.3 135.0 L 166.7 143.7 Q 167.3 144.6, 168.1 146.2 Q 169.0 147.7, 169.0 147.8 L 169.0 135.0 L 171.2 135.0 L 171.2 151.5 L 169.0 151.5 L 163.2 142.0 Q 162.5 140.8, 161.8 139.5 Q 161.1 138.3, 160.9 137.9 L 160.9 151.5 L 158.7 151.5 L 158.7 135.0 L 161.3 135.0 \" fill=\"#0000FF\"/>\n",
       "<path class=\"atom-9\" d=\"M 102.8 182.6 Q 102.8 178.6, 104.7 176.4 Q 106.7 174.2, 110.4 174.2 Q 114.0 174.2, 116.0 176.4 Q 117.9 178.6, 117.9 182.6 Q 117.9 186.6, 116.0 188.9 Q 114.0 191.2, 110.4 191.2 Q 106.7 191.2, 104.7 188.9 Q 102.8 186.6, 102.8 182.6 M 110.4 189.3 Q 112.9 189.3, 114.2 187.6 Q 115.6 185.9, 115.6 182.6 Q 115.6 179.4, 114.2 177.7 Q 112.9 176.1, 110.4 176.1 Q 107.8 176.1, 106.5 177.7 Q 105.1 179.3, 105.1 182.6 Q 105.1 185.9, 106.5 187.6 Q 107.8 189.3, 110.4 189.3 \" fill=\"#FF0000\"/>\n",
       "<path class=\"atom-12\" d=\"M 15.9 249.1 L 18.1 249.1 L 18.1 256.1 L 26.6 256.1 L 26.6 249.1 L 28.8 249.1 L 28.8 265.6 L 26.6 265.6 L 26.6 258.0 L 18.1 258.0 L 18.1 265.6 L 15.9 265.6 L 15.9 249.1 \" fill=\"#FF0000\"/>\n",
       "<path class=\"atom-12\" d=\"M 32.2 257.3 Q 32.2 253.4, 34.2 251.1 Q 36.1 248.9, 39.8 248.9 Q 43.4 248.9, 45.4 251.1 Q 47.4 253.4, 47.4 257.3 Q 47.4 261.3, 45.4 263.6 Q 43.4 265.9, 39.8 265.9 Q 36.1 265.9, 34.2 263.6 Q 32.2 261.4, 32.2 257.3 M 39.8 264.0 Q 42.3 264.0, 43.7 262.3 Q 45.0 260.6, 45.0 257.3 Q 45.0 254.1, 43.7 252.5 Q 42.3 250.8, 39.8 250.8 Q 37.3 250.8, 35.9 252.4 Q 34.5 254.1, 34.5 257.3 Q 34.5 260.7, 35.9 262.3 Q 37.3 264.0, 39.8 264.0 \" fill=\"#FF0000\"/>\n",
       "<path class=\"atom-14\" d=\"M 239.5 42.5 Q 239.5 38.5, 241.4 36.3 Q 243.4 34.1, 247.0 34.1 Q 250.7 34.1, 252.7 36.3 Q 254.6 38.5, 254.6 42.5 Q 254.6 46.5, 252.6 48.8 Q 250.7 51.1, 247.0 51.1 Q 243.4 51.1, 241.4 48.8 Q 239.5 46.5, 239.5 42.5 M 247.0 49.2 Q 249.6 49.2, 250.9 47.5 Q 252.3 45.8, 252.3 42.5 Q 252.3 39.3, 250.9 37.6 Q 249.6 36.0, 247.0 36.0 Q 244.5 36.0, 243.1 37.6 Q 241.8 39.2, 241.8 42.5 Q 241.8 45.8, 243.1 47.5 Q 244.5 49.2, 247.0 49.2 \" fill=\"#FF0000\"/>\n",
       "<path class=\"atom-15\" d=\"M 270.5 95.8 L 275.9 104.5 Q 276.4 105.4, 277.3 107.0 Q 278.2 108.5, 278.2 108.6 L 278.2 95.8 L 280.4 95.8 L 280.4 112.3 L 278.1 112.3 L 272.3 102.8 Q 271.7 101.6, 270.9 100.3 Q 270.2 99.1, 270.0 98.7 L 270.0 112.3 L 267.9 112.3 L 267.9 95.8 L 270.5 95.8 \" fill=\"#0000FF\"/>\n",
       "<path class=\"atom-15\" d=\"M 283.6 95.8 L 285.8 95.8 L 285.8 102.8 L 294.3 102.8 L 294.3 95.8 L 296.5 95.8 L 296.5 112.3 L 294.3 112.3 L 294.3 104.7 L 285.8 104.7 L 285.8 112.3 L 283.6 112.3 L 283.6 95.8 \" fill=\"#0000FF\"/>\n",
       "<path d=\"M 301.2,165.6 L 269.9,142.7\" class=\"bond-selector bond-0 atom-0 atom-1\" style=\"fill:#fff;stroke:#fff;stroke-width:4.0px;fill-opacity:0;stroke-opacity:0\"/>\n",
       "<path d=\"M 269.9,142.7 L 234.3,158.3\" class=\"bond-selector bond-1 atom-1 atom-2\" style=\"fill:#fff;stroke:#fff;stroke-width:4.0px;fill-opacity:0;stroke-opacity:0\"/>\n",
       "<path d=\"M 234.3,158.3 L 203.0,135.3\" class=\"bond-selector bond-2 atom-2 atom-3\" style=\"fill:#fff;stroke:#fff;stroke-width:4.0px;fill-opacity:0;stroke-opacity:0\"/>\n",
       "<path d=\"M 203.0,135.3 L 207.2,96.7\" class=\"bond-selector bond-3 atom-3 atom-4\" style=\"fill:#fff;stroke:#fff;stroke-width:4.0px;fill-opacity:0;stroke-opacity:0\"/>\n",
       "<path d=\"M 207.2,96.7 L 171.8,80.8\" class=\"bond-selector bond-4 atom-4 atom-5\" style=\"fill:#fff;stroke:#fff;stroke-width:4.0px;fill-opacity:0;stroke-opacity:0\"/>\n",
       "<path d=\"M 171.8,80.8 L 145.7,109.5\" class=\"bond-selector bond-5 atom-5 atom-6\" style=\"fill:#fff;stroke:#fff;stroke-width:4.0px;fill-opacity:0;stroke-opacity:0\"/>\n",
       "<path d=\"M 145.7,109.5 L 165.0,143.3\" class=\"bond-selector bond-6 atom-6 atom-7\" style=\"fill:#fff;stroke:#fff;stroke-width:4.0px;fill-opacity:0;stroke-opacity:0\"/>\n",
       "<path d=\"M 165.0,143.3 L 149.0,178.7\" class=\"bond-selector bond-7 atom-7 atom-8\" style=\"fill:#fff;stroke:#fff;stroke-width:4.0px;fill-opacity:0;stroke-opacity:0\"/>\n",
       "<path d=\"M 149.0,178.7 L 110.4,182.6\" class=\"bond-selector bond-8 atom-8 atom-9\" style=\"fill:#fff;stroke:#fff;stroke-width:4.0px;fill-opacity:0;stroke-opacity:0\"/>\n",
       "<path d=\"M 110.4,182.6 L 94.4,218.0\" class=\"bond-selector bond-9 atom-9 atom-10\" style=\"fill:#fff;stroke:#fff;stroke-width:4.0px;fill-opacity:0;stroke-opacity:0\"/>\n",
       "<path d=\"M 94.4,218.0 L 55.7,221.9\" class=\"bond-selector bond-10 atom-10 atom-11\" style=\"fill:#fff;stroke:#fff;stroke-width:4.0px;fill-opacity:0;stroke-opacity:0\"/>\n",
       "<path d=\"M 55.7,221.9 L 39.8,257.3\" class=\"bond-selector bond-11 atom-11 atom-12\" style=\"fill:#fff;stroke:#fff;stroke-width:4.0px;fill-opacity:0;stroke-opacity:0\"/>\n",
       "<path d=\"M 207.2,96.7 L 242.8,81.1\" class=\"bond-selector bond-12 atom-4 atom-13\" style=\"fill:#fff;stroke:#fff;stroke-width:4.0px;fill-opacity:0;stroke-opacity:0\"/>\n",
       "<path d=\"M 242.8,81.1 L 247.0,42.5\" class=\"bond-selector bond-13 atom-13 atom-14\" style=\"fill:#fff;stroke:#fff;stroke-width:4.0px;fill-opacity:0;stroke-opacity:0\"/>\n",
       "<path d=\"M 242.8,81.1 L 274.1,104.1\" class=\"bond-selector bond-14 atom-13 atom-15\" style=\"fill:#fff;stroke:#fff;stroke-width:4.0px;fill-opacity:0;stroke-opacity:0\"/>\n",
       "<path d=\"M 274.1,104.1 L 269.9,142.7\" class=\"bond-selector bond-15 atom-15 atom-1\" style=\"fill:#fff;stroke:#fff;stroke-width:4.0px;fill-opacity:0;stroke-opacity:0\"/>\n",
       "<path d=\"M 165.0,143.3 L 203.0,135.3\" class=\"bond-selector bond-16 atom-7 atom-3\" style=\"fill:#fff;stroke:#fff;stroke-width:4.0px;fill-opacity:0;stroke-opacity:0\"/>\n",
       "<circle cx=\"301.2\" cy=\"165.6\" r=\"7.8\" class=\"atom-selector atom-0\" style=\"fill:#fff;stroke:#fff;stroke-width:1px;fill-opacity:0;stroke-opacity:0\" onclick=\"alert(0);\"/>\n",
       "<circle cx=\"269.9\" cy=\"142.7\" r=\"7.8\" class=\"atom-selector atom-1\" style=\"fill:#fff;stroke:#fff;stroke-width:1px;fill-opacity:0;stroke-opacity:0\" onclick=\"alert(1);\"/>\n",
       "<circle cx=\"234.3\" cy=\"158.3\" r=\"7.8\" class=\"atom-selector atom-2\" style=\"fill:#fff;stroke:#fff;stroke-width:1px;fill-opacity:0;stroke-opacity:0\" onclick=\"alert(2);\"/>\n",
       "<circle cx=\"203.0\" cy=\"135.3\" r=\"7.8\" class=\"atom-selector atom-3\" style=\"fill:#fff;stroke:#fff;stroke-width:1px;fill-opacity:0;stroke-opacity:0\" onclick=\"alert(3);\"/>\n",
       "<circle cx=\"207.2\" cy=\"96.7\" r=\"7.8\" class=\"atom-selector atom-4\" style=\"fill:#fff;stroke:#fff;stroke-width:1px;fill-opacity:0;stroke-opacity:0\" onclick=\"alert(4);\"/>\n",
       "<circle cx=\"171.8\" cy=\"80.8\" r=\"7.8\" class=\"atom-selector atom-5\" style=\"fill:#fff;stroke:#fff;stroke-width:1px;fill-opacity:0;stroke-opacity:0\" onclick=\"alert(5);\"/>\n",
       "<circle cx=\"145.7\" cy=\"109.5\" r=\"7.8\" class=\"atom-selector atom-6\" style=\"fill:#fff;stroke:#fff;stroke-width:1px;fill-opacity:0;stroke-opacity:0\" onclick=\"alert(6);\"/>\n",
       "<circle cx=\"165.0\" cy=\"143.3\" r=\"7.8\" class=\"atom-selector atom-7\" style=\"fill:#fff;stroke:#fff;stroke-width:1px;fill-opacity:0;stroke-opacity:0\" onclick=\"alert(7);\"/>\n",
       "<circle cx=\"149.0\" cy=\"178.7\" r=\"7.8\" class=\"atom-selector atom-8\" style=\"fill:#fff;stroke:#fff;stroke-width:1px;fill-opacity:0;stroke-opacity:0\" onclick=\"alert(8);\"/>\n",
       "<circle cx=\"110.4\" cy=\"182.6\" r=\"7.8\" class=\"atom-selector atom-9\" style=\"fill:#fff;stroke:#fff;stroke-width:1px;fill-opacity:0;stroke-opacity:0\" onclick=\"alert(9);\"/>\n",
       "<circle cx=\"94.4\" cy=\"218.0\" r=\"7.8\" class=\"atom-selector atom-10\" style=\"fill:#fff;stroke:#fff;stroke-width:1px;fill-opacity:0;stroke-opacity:0\" onclick=\"alert(10);\"/>\n",
       "<circle cx=\"55.7\" cy=\"221.9\" r=\"7.8\" class=\"atom-selector atom-11\" style=\"fill:#fff;stroke:#fff;stroke-width:1px;fill-opacity:0;stroke-opacity:0\" onclick=\"alert(11);\"/>\n",
       "<circle cx=\"39.8\" cy=\"257.3\" r=\"7.8\" class=\"atom-selector atom-12\" style=\"fill:#fff;stroke:#fff;stroke-width:1px;fill-opacity:0;stroke-opacity:0\" onclick=\"alert(12);\"/>\n",
       "<circle cx=\"242.8\" cy=\"81.1\" r=\"7.8\" class=\"atom-selector atom-13\" style=\"fill:#fff;stroke:#fff;stroke-width:1px;fill-opacity:0;stroke-opacity:0\" onclick=\"alert(13);\"/>\n",
       "<circle cx=\"247.0\" cy=\"42.5\" r=\"7.8\" class=\"atom-selector atom-14\" style=\"fill:#fff;stroke:#fff;stroke-width:1px;fill-opacity:0;stroke-opacity:0\" onclick=\"alert(14);\"/>\n",
       "<circle cx=\"274.1\" cy=\"104.1\" r=\"7.8\" class=\"atom-selector atom-15\" style=\"fill:#fff;stroke:#fff;stroke-width:1px;fill-opacity:0;stroke-opacity:0\" onclick=\"alert(15);\"/>\n",
       "</svg>"
      ],
      "text/plain": [
       "<IPython.core.display.SVG object>"
      ]
     },
     "execution_count": 19,
     "metadata": {},
     "output_type": "execute_result"
    }
   ],
   "source": [
    "d2d = rdMolDraw2D.MolDraw2DSVG(350,300)\n",
    "d2d.DrawMolecule(mol1)\n",
    "d2d.TagAtoms(mol1,events={'onclick':'alert'})\n",
    "d2d.FinishDrawing()\n",
    "SVG(d2d.GetDrawingText())"
   ]
  },
  {
   "cell_type": "code",
   "execution_count": 18,
   "id": "ce02fdc3-703b-47d7-b67f-1646f83477fa",
   "metadata": {},
   "outputs": [],
   "source": [
    "with open('images/2453_v3.svg', 'w') as f:\n",
    "    f.write(SVGtext3)"
   ]
  },
  {
   "cell_type": "code",
   "execution_count": null,
   "id": "229c32e9-80b0-421e-a80b-49d1ce14bbbe",
   "metadata": {},
   "outputs": [],
   "source": []
  }
 ],
 "metadata": {
  "kernelspec": {
   "display_name": "Python 3 (ipykernel)",
   "language": "python",
   "name": "python3"
  },
  "language_info": {
   "codemirror_mode": {
    "name": "ipython",
    "version": 3
   },
   "file_extension": ".py",
   "mimetype": "text/x-python",
   "name": "python",
   "nbconvert_exporter": "python",
   "pygments_lexer": "ipython3",
   "version": "3.10.12"
  }
 },
 "nbformat": 4,
 "nbformat_minor": 5
}
