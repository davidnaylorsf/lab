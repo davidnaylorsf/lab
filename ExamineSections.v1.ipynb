{
 "cells": [
  {
   "cell_type": "code",
   "execution_count": 1,
   "id": "b4826a89-b9f2-4d9d-9b6f-b15eee514fcd",
   "metadata": {},
   "outputs": [],
   "source": [
    "import numpy as np\n",
    "import pandas as pd\n",
    "import json"
   ]
  },
  {
   "cell_type": "code",
   "execution_count": 3,
   "id": "679e8a63-f9d4-4445-ba36-cc53de8a8083",
   "metadata": {},
   "outputs": [],
   "source": [
    "with open('ELEMENTS_v2.json') as f:\n",
    "    data = json.load(f)"
   ]
  },
  {
   "cell_type": "code",
   "execution_count": 10,
   "id": "cc09a16a-1bc0-4bf0-baaf-1083f162f652",
   "metadata": {},
   "outputs": [],
   "source": [
    "records=[]\n",
    "sections=[]\n",
    "dataSections=[]"
   ]
  },
  {
   "cell_type": "code",
   "execution_count": 5,
   "id": "f7e478d6-b2c0-4e02-bbb6-eb75699fbfe5",
   "metadata": {},
   "outputs": [],
   "source": [
    "for recordRow in data:\n",
    "    record = recordRow['Record']\n",
    "    records.append(record)"
   ]
  },
  {
   "cell_type": "code",
   "execution_count": 6,
   "id": "52654110-abb4-4ff1-84b5-6a8ea906ea77",
   "metadata": {},
   "outputs": [],
   "source": [
    "for record in records:\n",
    "    section = record['Section']\n",
    "    sections.append(section)"
   ]
  },
  {
   "cell_type": "code",
   "execution_count": 14,
   "id": "a28da7bd-86b7-4abf-92c8-76008338164c",
   "metadata": {},
   "outputs": [],
   "source": [
    "for section in sections:\n",
    "    for sectionItem in section:\n",
    "        if 'Section' in sectionItem:\n",
    "          dataSection = sectionItem['Section']\n",
    "          dataSections.append(dataSection)"
   ]
  },
  {
   "cell_type": "code",
   "execution_count": null,
   "id": "ca61bc16-cb22-47fe-8005-e176b5f52f1b",
   "metadata": {},
   "outputs": [],
   "source": [
    "dataSections"
   ]
  }
 ],
 "metadata": {
  "kernelspec": {
   "display_name": "Python 3 (ipykernel)",
   "language": "python",
   "name": "python3"
  },
  "language_info": {
   "codemirror_mode": {
    "name": "ipython",
    "version": 3
   },
   "file_extension": ".py",
   "mimetype": "text/x-python",
   "name": "python",
   "nbconvert_exporter": "python",
   "pygments_lexer": "ipython3",
   "version": "3.10.12"
  }
 },
 "nbformat": 4,
 "nbformat_minor": 5
}
