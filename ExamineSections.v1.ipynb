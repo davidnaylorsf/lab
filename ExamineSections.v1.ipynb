{
 "cells": [
  {
   "cell_type": "code",
   "execution_count": 1,
   "id": "b4826a89-b9f2-4d9d-9b6f-b15eee514fcd",
   "metadata": {},
   "outputs": [],
   "source": [
    "import numpy as np\n",
    "import pandas as pd\n",
    "import json"
   ]
  },
  {
   "cell_type": "code",
   "execution_count": 3,
   "id": "679e8a63-f9d4-4445-ba36-cc53de8a8083",
   "metadata": {},
   "outputs": [],
   "source": [
    "with open('ELEMENTS_v2.json') as f:\n",
    "    data = json.load(f)"
   ]
  },
  {
   "cell_type": "code",
   "execution_count": 4,
   "id": "cc09a16a-1bc0-4bf0-baaf-1083f162f652",
   "metadata": {},
   "outputs": [],
   "source": [
    "records=[]\n",
    "sections=[]"
   ]
  },
  {
   "cell_type": "code",
   "execution_count": 5,
   "id": "f7e478d6-b2c0-4e02-bbb6-eb75699fbfe5",
   "metadata": {},
   "outputs": [],
   "source": [
    "for recordRow in data:\n",
    "    record = recordRow['Record']\n",
    "    records.append(record)"
   ]
  },
  {
   "cell_type": "code",
   "execution_count": 6,
   "id": "52654110-abb4-4ff1-84b5-6a8ea906ea77",
   "metadata": {},
   "outputs": [],
   "source": [
    "for record in records:\n",
    "    section = record['Section']\n",
    "    sections.append(section)"
   ]
  },
  {
   "cell_type": "code",
   "execution_count": 7,
   "id": "17be903d-1378-4068-916a-c92fd157030f",
   "metadata": {},
   "outputs": [
    {
     "ename": "AttributeError",
     "evalue": "'list' object has no attribute 'head'",
     "output_type": "error",
     "traceback": [
      "\u001b[0;31m---------------------------------------------------------------------------\u001b[0m",
      "\u001b[0;31mAttributeError\u001b[0m                            Traceback (most recent call last)",
      "Cell \u001b[0;32mIn[7], line 1\u001b[0m\n\u001b[0;32m----> 1\u001b[0m \u001b[43msections\u001b[49m\u001b[38;5;241;43m.\u001b[39;49m\u001b[43mhead\u001b[49m(\u001b[38;5;241m10\u001b[39m)\n",
      "\u001b[0;31mAttributeError\u001b[0m: 'list' object has no attribute 'head'"
     ]
    }
   ],
   "source": [
    "sections.head(10)"
   ]
  },
  {
   "cell_type": "code",
   "execution_count": null,
   "id": "0c84a731-4a4d-4452-b616-3411a5cc18ce",
   "metadata": {},
   "outputs": [],
   "source": []
  }
 ],
 "metadata": {
  "kernelspec": {
   "display_name": "Python 3 (ipykernel)",
   "language": "python",
   "name": "python3"
  },
  "language_info": {
   "codemirror_mode": {
    "name": "ipython",
    "version": 3
   },
   "file_extension": ".py",
   "mimetype": "text/x-python",
   "name": "python",
   "nbconvert_exporter": "python",
   "pygments_lexer": "ipython3",
   "version": "3.10.12"
  }
 },
 "nbformat": 4,
 "nbformat_minor": 5
}
