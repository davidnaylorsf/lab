{
 "cells": [
  {
   "cell_type": "code",
   "execution_count": 1,
   "id": "7e96060c-31f1-42d6-a86c-150cd6395f5c",
   "metadata": {},
   "outputs": [],
   "source": [
    "import numpy as np\n",
    "import pandas as pd\n",
    "import json"
   ]
  },
  {
   "cell_type": "code",
   "execution_count": 2,
   "id": "f4a62ea4-76e9-495a-a0c4-961b8e9bc4e3",
   "metadata": {},
   "outputs": [],
   "source": [
    "df = pd.read_json('ELEMENTS_v2.json')"
   ]
  },
  {
   "cell_type": "code",
   "execution_count": 3,
   "id": "8ecf32b8-fca5-48ac-8e69-324dd8e3ac1c",
   "metadata": {},
   "outputs": [
    {
     "data": {
      "text/html": [
       "<div>\n",
       "<style scoped>\n",
       "    .dataframe tbody tr th:only-of-type {\n",
       "        vertical-align: middle;\n",
       "    }\n",
       "\n",
       "    .dataframe tbody tr th {\n",
       "        vertical-align: top;\n",
       "    }\n",
       "\n",
       "    .dataframe thead th {\n",
       "        text-align: right;\n",
       "    }\n",
       "</style>\n",
       "<table border=\"1\" class=\"dataframe\">\n",
       "  <thead>\n",
       "    <tr style=\"text-align: right;\">\n",
       "      <th></th>\n",
       "      <th>_id</th>\n",
       "      <th>Record</th>\n",
       "    </tr>\n",
       "  </thead>\n",
       "  <tbody>\n",
       "    <tr>\n",
       "      <th>0</th>\n",
       "      <td>{'$oid': '65107fb178d5f9132db84957'}</td>\n",
       "      <td>{'RecordType': 'AtomicNumber', 'RecordNumber':...</td>\n",
       "    </tr>\n",
       "    <tr>\n",
       "      <th>1</th>\n",
       "      <td>{'$oid': '65107fb178d5f9132db84958'}</td>\n",
       "      <td>{'RecordType': 'AtomicNumber', 'RecordNumber':...</td>\n",
       "    </tr>\n",
       "    <tr>\n",
       "      <th>2</th>\n",
       "      <td>{'$oid': '65107fb178d5f9132db84955'}</td>\n",
       "      <td>{'RecordType': 'AtomicNumber', 'RecordNumber':...</td>\n",
       "    </tr>\n",
       "    <tr>\n",
       "      <th>3</th>\n",
       "      <td>{'$oid': '65107fb178d5f9132db84956'}</td>\n",
       "      <td>{'RecordType': 'AtomicNumber', 'RecordNumber':...</td>\n",
       "    </tr>\n",
       "    <tr>\n",
       "      <th>4</th>\n",
       "      <td>{'$oid': '65107fb178d5f9132db84954'}</td>\n",
       "      <td>{'RecordType': 'AtomicNumber', 'RecordNumber':...</td>\n",
       "    </tr>\n",
       "  </tbody>\n",
       "</table>\n",
       "</div>"
      ],
      "text/plain": [
       "                                    _id  \\\n",
       "0  {'$oid': '65107fb178d5f9132db84957'}   \n",
       "1  {'$oid': '65107fb178d5f9132db84958'}   \n",
       "2  {'$oid': '65107fb178d5f9132db84955'}   \n",
       "3  {'$oid': '65107fb178d5f9132db84956'}   \n",
       "4  {'$oid': '65107fb178d5f9132db84954'}   \n",
       "\n",
       "                                              Record  \n",
       "0  {'RecordType': 'AtomicNumber', 'RecordNumber':...  \n",
       "1  {'RecordType': 'AtomicNumber', 'RecordNumber':...  \n",
       "2  {'RecordType': 'AtomicNumber', 'RecordNumber':...  \n",
       "3  {'RecordType': 'AtomicNumber', 'RecordNumber':...  \n",
       "4  {'RecordType': 'AtomicNumber', 'RecordNumber':...  "
      ]
     },
     "execution_count": 3,
     "metadata": {},
     "output_type": "execute_result"
    }
   ],
   "source": [
    "df.head()"
   ]
  },
  {
   "cell_type": "code",
   "execution_count": 4,
   "id": "f5fab263-ef29-4e45-9169-bd55de5b6da3",
   "metadata": {},
   "outputs": [],
   "source": [
    "records = df['Record']"
   ]
  },
  {
   "cell_type": "code",
   "execution_count": 5,
   "id": "32af3c02-bb06-43eb-9377-19417a529325",
   "metadata": {},
   "outputs": [
    {
     "data": {
      "text/plain": [
       "0    {'RecordType': 'AtomicNumber', 'RecordNumber':...\n",
       "1    {'RecordType': 'AtomicNumber', 'RecordNumber':...\n",
       "2    {'RecordType': 'AtomicNumber', 'RecordNumber':...\n",
       "3    {'RecordType': 'AtomicNumber', 'RecordNumber':...\n",
       "4    {'RecordType': 'AtomicNumber', 'RecordNumber':...\n",
       "Name: Record, dtype: object"
      ]
     },
     "execution_count": 5,
     "metadata": {},
     "output_type": "execute_result"
    }
   ],
   "source": [
    "records.head()"
   ]
  },
  {
   "cell_type": "code",
   "execution_count": 6,
   "id": "2a7683b0-29ba-4c42-bd98-8805c1ff04a3",
   "metadata": {},
   "outputs": [
    {
     "data": {
      "text/plain": [
       "0     {'RecordType': 'AtomicNumber', 'RecordNumber':...\n",
       "1     {'RecordType': 'AtomicNumber', 'RecordNumber':...\n",
       "2     {'RecordType': 'AtomicNumber', 'RecordNumber':...\n",
       "3     {'RecordType': 'AtomicNumber', 'RecordNumber':...\n",
       "4     {'RecordType': 'AtomicNumber', 'RecordNumber':...\n",
       "5     {'RecordType': 'AtomicNumber', 'RecordNumber':...\n",
       "6     {'RecordType': 'AtomicNumber', 'RecordNumber':...\n",
       "7     {'RecordType': 'AtomicNumber', 'RecordNumber':...\n",
       "8     {'RecordType': 'AtomicNumber', 'RecordNumber':...\n",
       "9     {'RecordType': 'AtomicNumber', 'RecordNumber':...\n",
       "10    {'RecordType': 'AtomicNumber', 'RecordNumber':...\n",
       "11    {'RecordType': 'AtomicNumber', 'RecordNumber':...\n",
       "12    {'RecordType': 'AtomicNumber', 'RecordNumber':...\n",
       "13    {'RecordType': 'AtomicNumber', 'RecordNumber':...\n",
       "14    {'RecordType': 'AtomicNumber', 'RecordNumber':...\n",
       "15    {'RecordType': 'AtomicNumber', 'RecordNumber':...\n",
       "16    {'RecordType': 'AtomicNumber', 'RecordNumber':...\n",
       "17    {'RecordType': 'AtomicNumber', 'RecordNumber':...\n",
       "18    {'RecordType': 'AtomicNumber', 'RecordNumber':...\n",
       "19    {'RecordType': 'AtomicNumber', 'RecordNumber':...\n",
       "Name: Record, dtype: object"
      ]
     },
     "execution_count": 6,
     "metadata": {},
     "output_type": "execute_result"
    }
   ],
   "source": [
    "records"
   ]
  },
  {
   "cell_type": "code",
   "execution_count": 7,
   "id": "3a6e2a7c-1f8c-433b-8a2f-3e3e98004dac",
   "metadata": {},
   "outputs": [
    {
     "ename": "AttributeError",
     "evalue": "'Series' object has no attribute 'set_option'",
     "output_type": "error",
     "traceback": [
      "\u001b[0;31m---------------------------------------------------------------------------\u001b[0m",
      "\u001b[0;31mAttributeError\u001b[0m                            Traceback (most recent call last)",
      "\u001b[0;32m/tmp/ipykernel_34324/1526212156.py\u001b[0m in \u001b[0;36m?\u001b[0;34m()\u001b[0m\n\u001b[0;32m----> 1\u001b[0;31m \u001b[0mrecords\u001b[0m\u001b[0;34m.\u001b[0m\u001b[0mset_option\u001b[0m\u001b[0;34m(\u001b[0m\u001b[0;34m'display.max_columns'\u001b[0m\u001b[0;34m,\u001b[0m \u001b[0;36m10\u001b[0m\u001b[0;34m)\u001b[0m\u001b[0;34m\u001b[0m\u001b[0;34m\u001b[0m\u001b[0m\n\u001b[0m",
      "\u001b[0;32m/usr/local/lib/python3.10/dist-packages/pandas/core/generic.py\u001b[0m in \u001b[0;36m?\u001b[0;34m(self, name)\u001b[0m\n\u001b[1;32m   6200\u001b[0m             \u001b[0;32mand\u001b[0m \u001b[0mname\u001b[0m \u001b[0;32mnot\u001b[0m \u001b[0;32min\u001b[0m \u001b[0mself\u001b[0m\u001b[0;34m.\u001b[0m\u001b[0m_accessors\u001b[0m\u001b[0;34m\u001b[0m\u001b[0;34m\u001b[0m\u001b[0m\n\u001b[1;32m   6201\u001b[0m             \u001b[0;32mand\u001b[0m \u001b[0mself\u001b[0m\u001b[0;34m.\u001b[0m\u001b[0m_info_axis\u001b[0m\u001b[0;34m.\u001b[0m\u001b[0m_can_hold_identifiers_and_holds_name\u001b[0m\u001b[0;34m(\u001b[0m\u001b[0mname\u001b[0m\u001b[0;34m)\u001b[0m\u001b[0;34m\u001b[0m\u001b[0;34m\u001b[0m\u001b[0m\n\u001b[1;32m   6202\u001b[0m         ):\n\u001b[1;32m   6203\u001b[0m             \u001b[0;32mreturn\u001b[0m \u001b[0mself\u001b[0m\u001b[0;34m[\u001b[0m\u001b[0mname\u001b[0m\u001b[0;34m]\u001b[0m\u001b[0;34m\u001b[0m\u001b[0;34m\u001b[0m\u001b[0m\n\u001b[0;32m-> 6204\u001b[0;31m         \u001b[0;32mreturn\u001b[0m \u001b[0mobject\u001b[0m\u001b[0;34m.\u001b[0m\u001b[0m__getattribute__\u001b[0m\u001b[0;34m(\u001b[0m\u001b[0mself\u001b[0m\u001b[0;34m,\u001b[0m \u001b[0mname\u001b[0m\u001b[0;34m)\u001b[0m\u001b[0;34m\u001b[0m\u001b[0;34m\u001b[0m\u001b[0m\n\u001b[0m",
      "\u001b[0;31mAttributeError\u001b[0m: 'Series' object has no attribute 'set_option'"
     ]
    }
   ],
   "source": [
    "records.set_option('display.max_columns', 10)"
   ]
  },
  {
   "cell_type": "code",
   "execution_count": null,
   "id": "5af3c2f2-1c45-459b-9a15-63231f1bbfda",
   "metadata": {},
   "outputs": [],
   "source": []
  }
 ],
 "metadata": {
  "kernelspec": {
   "display_name": "Python 3 (ipykernel)",
   "language": "python",
   "name": "python3"
  },
  "language_info": {
   "codemirror_mode": {
    "name": "ipython",
    "version": 3
   },
   "file_extension": ".py",
   "mimetype": "text/x-python",
   "name": "python",
   "nbconvert_exporter": "python",
   "pygments_lexer": "ipython3",
   "version": "3.10.12"
  }
 },
 "nbformat": 4,
 "nbformat_minor": 5
}
