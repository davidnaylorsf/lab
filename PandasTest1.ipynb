{
 "cells": [
  {
   "cell_type": "code",
   "execution_count": 1,
   "id": "aca31e5d-ee16-419a-95cb-f1359be504d5",
   "metadata": {},
   "outputs": [],
   "source": [
    "import numpy as np\n",
    "import pandas as pd\n",
    "import json"
   ]
  },
  {
   "cell_type": "code",
   "execution_count": 2,
   "id": "9a31ff8a-f23a-427b-8d53-88e6ac1f9cba",
   "metadata": {},
   "outputs": [],
   "source": [
    "df = pd.read_json('ELEMENTS_v2.json')"
   ]
  },
  {
   "cell_type": "code",
   "execution_count": 3,
   "id": "f8b8eb6d-ccf1-452c-95cd-1e16b1b2978a",
   "metadata": {},
   "outputs": [
    {
     "data": {
      "text/html": [
       "<div>\n",
       "<style scoped>\n",
       "    .dataframe tbody tr th:only-of-type {\n",
       "        vertical-align: middle;\n",
       "    }\n",
       "\n",
       "    .dataframe tbody tr th {\n",
       "        vertical-align: top;\n",
       "    }\n",
       "\n",
       "    .dataframe thead th {\n",
       "        text-align: right;\n",
       "    }\n",
       "</style>\n",
       "<table border=\"1\" class=\"dataframe\">\n",
       "  <thead>\n",
       "    <tr style=\"text-align: right;\">\n",
       "      <th></th>\n",
       "      <th>_id</th>\n",
       "      <th>Record</th>\n",
       "    </tr>\n",
       "  </thead>\n",
       "  <tbody>\n",
       "    <tr>\n",
       "      <th>0</th>\n",
       "      <td>{'$oid': '65107fb178d5f9132db84957'}</td>\n",
       "      <td>{'RecordType': 'AtomicNumber', 'RecordNumber':...</td>\n",
       "    </tr>\n",
       "    <tr>\n",
       "      <th>1</th>\n",
       "      <td>{'$oid': '65107fb178d5f9132db84958'}</td>\n",
       "      <td>{'RecordType': 'AtomicNumber', 'RecordNumber':...</td>\n",
       "    </tr>\n",
       "    <tr>\n",
       "      <th>2</th>\n",
       "      <td>{'$oid': '65107fb178d5f9132db84955'}</td>\n",
       "      <td>{'RecordType': 'AtomicNumber', 'RecordNumber':...</td>\n",
       "    </tr>\n",
       "    <tr>\n",
       "      <th>3</th>\n",
       "      <td>{'$oid': '65107fb178d5f9132db84956'}</td>\n",
       "      <td>{'RecordType': 'AtomicNumber', 'RecordNumber':...</td>\n",
       "    </tr>\n",
       "    <tr>\n",
       "      <th>4</th>\n",
       "      <td>{'$oid': '65107fb178d5f9132db84954'}</td>\n",
       "      <td>{'RecordType': 'AtomicNumber', 'RecordNumber':...</td>\n",
       "    </tr>\n",
       "  </tbody>\n",
       "</table>\n",
       "</div>"
      ],
      "text/plain": [
       "                                    _id  \\\n",
       "0  {'$oid': '65107fb178d5f9132db84957'}   \n",
       "1  {'$oid': '65107fb178d5f9132db84958'}   \n",
       "2  {'$oid': '65107fb178d5f9132db84955'}   \n",
       "3  {'$oid': '65107fb178d5f9132db84956'}   \n",
       "4  {'$oid': '65107fb178d5f9132db84954'}   \n",
       "\n",
       "                                              Record  \n",
       "0  {'RecordType': 'AtomicNumber', 'RecordNumber':...  \n",
       "1  {'RecordType': 'AtomicNumber', 'RecordNumber':...  \n",
       "2  {'RecordType': 'AtomicNumber', 'RecordNumber':...  \n",
       "3  {'RecordType': 'AtomicNumber', 'RecordNumber':...  \n",
       "4  {'RecordType': 'AtomicNumber', 'RecordNumber':...  "
      ]
     },
     "execution_count": 3,
     "metadata": {},
     "output_type": "execute_result"
    }
   ],
   "source": [
    "df.head()"
   ]
  },
  {
   "cell_type": "code",
   "execution_count": null,
   "id": "add91e6c-aef5-4658-ab2d-b68f9cd510a4",
   "metadata": {},
   "outputs": [],
   "source": []
  }
 ],
 "metadata": {
  "kernelspec": {
   "display_name": "Python 3 (ipykernel)",
   "language": "python",
   "name": "python3"
  },
  "language_info": {
   "codemirror_mode": {
    "name": "ipython",
    "version": 3
   },
   "file_extension": ".py",
   "mimetype": "text/x-python",
   "name": "python",
   "nbconvert_exporter": "python",
   "pygments_lexer": "ipython3",
   "version": "3.10.12"
  }
 },
 "nbformat": 4,
 "nbformat_minor": 5
}
